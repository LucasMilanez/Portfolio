{
 "cells": [
  {
   "cell_type": "code",
   "execution_count": 1,
   "id": "69d7f97f-0acf-409b-9438-5d3cc8d7faea",
   "metadata": {},
   "outputs": [],
   "source": [
    "import pandas as pd\n",
    "import numpy as np\n",
    "from datetime import datetime"
   ]
  },
  {
   "cell_type": "code",
   "execution_count": 46,
   "id": "ea0f4193-857b-44a0-a198-ee89bccb558c",
   "metadata": {},
   "outputs": [],
   "source": [
    "df = pd.read_csv('Coffee_sales.csv')"
   ]
  },
  {
   "cell_type": "code",
   "execution_count": 86,
   "id": "abe86a74-03a5-4b59-ad84-3a3d4cdb8c8d",
   "metadata": {},
   "outputs": [],
   "source": [
    "month_weights = [5, 1, 8, 3, 8, 12, 12, 2, 8, 5, 3, 13]  # pesos para jan-dez\n",
    "month_probs = np.array(month_weights) / np.sum(month_weights)"
   ]
  },
  {
   "cell_type": "code",
   "execution_count": 87,
   "id": "99858741-19a9-4094-9d6b-1e32e16b7b01",
   "metadata": {},
   "outputs": [
    {
     "ename": "NameError",
     "evalue": "name 'time' is not defined",
     "output_type": "error",
     "traceback": [
      "\u001b[1;31m---------------------------------------------------------------------------\u001b[0m",
      "\u001b[1;31mNameError\u001b[0m                                 Traceback (most recent call last)",
      "Cell \u001b[1;32mIn[87], line 8\u001b[0m\n\u001b[0;32m      4\u001b[0m date_probs \u001b[38;5;241m=\u001b[39m date_weights \u001b[38;5;241m/\u001b[39m date_weights\u001b[38;5;241m.\u001b[39msum()\n\u001b[0;32m      6\u001b[0m selected_dates \u001b[38;5;241m=\u001b[39m np\u001b[38;5;241m.\u001b[39mrandom\u001b[38;5;241m.\u001b[39mchoice(all_dates, size\u001b[38;5;241m=\u001b[39mn, p\u001b[38;5;241m=\u001b[39mdate_probs)\n\u001b[1;32m----> 8\u001b[0m times \u001b[38;5;241m=\u001b[39m [\u001b[43mtime\u001b[49m(hour\u001b[38;5;241m=\u001b[39mnp\u001b[38;5;241m.\u001b[39mrandom\u001b[38;5;241m.\u001b[39mrandint(\u001b[38;5;241m7\u001b[39m, \u001b[38;5;241m22\u001b[39m)) \u001b[38;5;28;01mfor\u001b[39;00m _ \u001b[38;5;129;01min\u001b[39;00m \u001b[38;5;28mrange\u001b[39m(n)]\n",
      "\u001b[1;31mNameError\u001b[0m: name 'time' is not defined"
     ]
    }
   ],
   "source": [
    "all_dates = pd.date_range(start=\"2023-01-01\", end=\"2025-12-31\", freq=\"D\")\n",
    "weights_by_month = {i+1: w for i, w in enumerate(month_weights)}\n",
    "date_weights = np.array([weights_by_month[d.month] for d in all_dates])\n",
    "date_probs = date_weights / date_weights.sum()\n",
    "\n",
    "selected_dates = np.random.choice(all_dates, size=n, p=date_probs)\n",
    "\n",
    "times = [time(hour=np.random.randint(7, 22)) for _ in range(n)]"
   ]
  },
  {
   "cell_type": "code",
   "execution_count": 79,
   "id": "4b390d10-14a5-4477-a062-378ed6d497fb",
   "metadata": {},
   "outputs": [],
   "source": [
    "cash_types = [\"Cash\", \"Credit Card\", \"Debit Card\", \"Mobile Payment\"]\n",
    "coffee_names = [\"Espresso\", \"Latte\", \"Cappuccino\", \"Mocha\", \"Americano\", \"Macchiato\"]"
   ]
  },
  {
   "cell_type": "code",
   "execution_count": 80,
   "id": "1c41d9cd-11e7-4c54-a156-cd2e0cc33daa",
   "metadata": {},
   "outputs": [],
   "source": [
    "n = 25279\n",
    "dates = pd.Series(np.random.choice(date_range, n))   # <<< vira Series do pandas\n",
    "times = pd.to_datetime(np.random.randint(0, 24*60*60, n), unit=\"s\").time"
   ]
  },
  {
   "cell_type": "code",
   "execution_count": 81,
   "id": "5c2610d1-8a2d-48ea-aa63-901cb316e5c7",
   "metadata": {},
   "outputs": [],
   "source": [
    "coffee_weights = [30, 25, 20, 10, 10, 5]   # proporção\n",
    "coffee_probs = np.array(coffee_weights) / np.sum(coffee_weights)"
   ]
  },
  {
   "cell_type": "code",
   "execution_count": 82,
   "id": "d5ba1cc5-5565-40c5-9cb9-e4d8894b2d67",
   "metadata": {},
   "outputs": [],
   "source": [
    "synthetic_data = pd.DataFrame({\n",
    "    \"hour_of_day\": [t.hour for t in times],\n",
    "    \"cash_type\": np.random.choice(cash_types, n, p=[0.5, 0.2, 0.2, 0.1]),\n",
    "    \"money\": np.round(np.random.uniform(2.5, 15.0, n), 2),\n",
    "    \"coffee_name\": np.random.choice(coffee_names, n, p=coffee_probs),\n",
    "    \"Time_of_Day\": [\"Morning\" if 5 <= t.hour < 12 else\n",
    "                    \"Afternoon\" if 12 <= t.hour < 18 else\n",
    "                    \"Night\"\n",
    "                    for t in times],\n",
    "    \"Weekday\": pd.Series(selected_dates).dt.day_name(),\n",
    "    \"Month_name\": pd.Series(selected_dates).dt.month_name(),\n",
    "    \"Weekdaysort\": pd.Series(selected_dates).dt.weekday,\n",
    "    \"Monthsort\": pd.Series(selected_dates).dt.month,\n",
    "    \"Date\": pd.Series(selected_dates).dt.date,\n",
    "    \"Time\": times,\n",
    "    \"week_number\": pd.Series(selected_dates).dt.isocalendar().week,\n",
    "    \"day_of_month\": pd.Series(selected_dates).dt.day\n",
    "})"
   ]
  },
  {
   "cell_type": "code",
   "execution_count": 83,
   "id": "23daffc7-b778-4318-82d8-d7c27a049bf6",
   "metadata": {},
   "outputs": [
    {
     "name": "stdout",
     "output_type": "stream",
     "text": [
      "       hour_of_day       cash_type  money coffee_name Time_of_Day    Weekday  \\\n",
      "0                2     Credit Card   4.76       Latte       Night  Wednesday   \n",
      "1                9  Mobile Payment   4.94   Americano     Morning  Wednesday   \n",
      "2               21            Cash   6.13       Latte       Night     Monday   \n",
      "3                2            Cash   8.06    Espresso       Night     Sunday   \n",
      "4                5     Credit Card  11.27   Americano     Morning   Saturday   \n",
      "...            ...             ...    ...         ...         ...        ...   \n",
      "25274            7            Cash   3.58       Latte     Morning   Saturday   \n",
      "25275           19     Credit Card  10.35   Macchiato       Night     Sunday   \n",
      "25276            1     Credit Card  11.12       Latte       Night     Monday   \n",
      "25277           13      Debit Card   3.03       Latte   Afternoon     Sunday   \n",
      "25278            2            Cash   3.79       Latte       Night     Monday   \n",
      "\n",
      "      Month_name  Weekdaysort  Monthsort        Date      Time  week_number  \\\n",
      "0         August            2          8  2023-08-09  02:48:12           32   \n",
      "1       November            2         11  2024-11-27  09:27:44           48   \n",
      "2        January            0          1  2024-01-15  21:28:37            3   \n",
      "3         August            6          8  2023-08-06  02:23:18           31   \n",
      "4          March            5          3  2024-03-16  05:26:11           11   \n",
      "...          ...          ...        ...         ...       ...          ...   \n",
      "25274  September            5          9  2023-09-09  07:25:23           36   \n",
      "25275       June            6          6  2023-06-11  19:45:47           23   \n",
      "25276   November            0         11  2023-11-06  01:37:52           45   \n",
      "25277    January            6          1  2024-01-14  13:19:43            2   \n",
      "25278     August            0          8  2023-08-07  02:48:00           32   \n",
      "\n",
      "       day_of_month  \n",
      "0                 9  \n",
      "1                27  \n",
      "2                15  \n",
      "3                 6  \n",
      "4                16  \n",
      "...             ...  \n",
      "25274             9  \n",
      "25275            11  \n",
      "25276             6  \n",
      "25277            14  \n",
      "25278             7  \n",
      "\n",
      "[25279 rows x 13 columns]\n"
     ]
    }
   ],
   "source": [
    "print(df)"
   ]
  },
  {
   "cell_type": "code",
   "execution_count": 84,
   "id": "980ffa7c-704a-41c7-a333-45f63dc785c7",
   "metadata": {},
   "outputs": [
    {
     "data": {
      "text/plain": [
       "Cash              12520\n",
       "Credit Card        5137\n",
       "Debit Card         5129\n",
       "Mobile Payment     2493\n",
       "Name: cash_type, dtype: int64"
      ]
     },
     "execution_count": 84,
     "metadata": {},
     "output_type": "execute_result"
    }
   ],
   "source": [
    "df['cash_type'].value_counts()"
   ]
  },
  {
   "cell_type": "code",
   "execution_count": 85,
   "id": "8666c17a-0b27-45a3-8487-d8c312714196",
   "metadata": {},
   "outputs": [],
   "source": [
    "synthetic_data.to_csv('coffee_sales.csv', index=False)\n"
   ]
  },
  {
   "cell_type": "code",
   "execution_count": null,
   "id": "f6a784b6-7861-4ea9-92bf-1ba0be4bd95d",
   "metadata": {},
   "outputs": [],
   "source": []
  }
 ],
 "metadata": {
  "kernelspec": {
   "display_name": "Python 3 (ipykernel)",
   "language": "python",
   "name": "python3"
  },
  "language_info": {
   "codemirror_mode": {
    "name": "ipython",
    "version": 3
   },
   "file_extension": ".py",
   "mimetype": "text/x-python",
   "name": "python",
   "nbconvert_exporter": "python",
   "pygments_lexer": "ipython3",
   "version": "3.12.3"
  }
 },
 "nbformat": 4,
 "nbformat_minor": 5
}
