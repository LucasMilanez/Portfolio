{
 "cells": [
  {
   "cell_type": "code",
   "execution_count": 112,
   "id": "69d7f97f-0acf-409b-9438-5d3cc8d7faea",
   "metadata": {},
   "outputs": [],
   "source": [
    "import pandas as pd\n",
    "import numpy as np\n",
    "from datetime import datetime, time"
   ]
  },
  {
   "cell_type": "code",
   "execution_count": 113,
   "id": "ea0f4193-857b-44a0-a198-ee89bccb558c",
   "metadata": {},
   "outputs": [],
   "source": [
    "df = pd.read_csv('Coffe_sales.csv')"
   ]
  },
  {
   "cell_type": "code",
   "execution_count": 122,
   "id": "ae29ce28-e2d0-4777-96a0-4815d4f07de2",
   "metadata": {},
   "outputs": [],
   "source": [
    "n = 67162"
   ]
  },
  {
   "cell_type": "code",
   "execution_count": 123,
   "id": "6460d720-9508-48f8-963a-398057d1fff0",
   "metadata": {},
   "outputs": [],
   "source": [
    "cash_types = [\"Cash\", \"Credit Card\", \"Debit Card\", \"Mobile Payment\"]\n",
    "coffee_names = [\"Espresso\", \"Latte\", \"Cappuccino\", \"Mocha\", \"Americano\", \"Macchiato\"]\n",
    "coffee_weights = [30, 25, 20, 10, 10, 5]\n",
    "coffee_probs = np.array(coffee_weights) / np.sum(coffee_weights)\n",
    "\n",
    "month_weights = [5, 1, 8, 3, 8, 12, 12, 2, 8, 5, 3, 13]\n",
    "month_probs = np.array(month_weights) / np.sum(month_weights)\n",
    "\n",
    "all_dates = pd.date_range(start=\"2023-01-01\", end=\"2025-12-31\", freq=\"D\")\n",
    "weights_by_month = {i+1: w for i, w in enumerate(month_weights)}\n",
    "date_weights = np.array([weights_by_month[d.month] for d in all_dates])\n",
    "date_probs = date_weights / date_weights.sum()\n",
    "\n",
    "selected_dates = np.random.choice(all_dates, size=n, p=date_probs)\n",
    "\n",
    "# Gerar horários aleatórios\n",
    "times = [time(hour=np.random.randint(7, 22)) for _ in range(n)]"
   ]
  },
  {
   "cell_type": "code",
   "execution_count": 128,
   "id": "f1ba032b-27f0-464b-804e-30977a1e6c33",
   "metadata": {},
   "outputs": [],
   "source": [
    "synthetic_data = pd.DataFrame({\n",
    "    \"hour_of_day\": [t.hour for t in times],\n",
    "    \"cash_type\": np.random.choice(cash_types, n, p=[0.15, 0.45, 0.30, 0.10]),\n",
    "    \"money\": np.round(np.random.uniform(2.5, 15.0, n), 2),\n",
    "    \"coffee_name\": np.random.choice(coffee_names, n, p=coffee_probs),\n",
    "    \"Time_of_Day\": [\"Morning\" if 5 <= t.hour < 12 else\n",
    "                    \"Afternoon\" if 12 <= t.hour < 18 else\n",
    "                    \"Night\"\n",
    "                    for t in times],\n",
    "    \"Weekday\": pd.Series(selected_dates).dt.day_name(),\n",
    "    \"Month_name\": pd.Series(selected_dates).dt.month_name(),\n",
    "    \"Weekdaysort\": pd.Series(selected_dates).dt.weekday,\n",
    "    \"Monthsort\": pd.Series(selected_dates).dt.month,\n",
    "    \"Date\": pd.Series(selected_dates).dt.date,\n",
    "    \"Time\": times,\n",
    "    \"week_number\": pd.Series(selected_dates).dt.isocalendar().week,\n",
    "    \"day_of_month\": pd.Series(selected_dates).dt.day,\n",
    "    \"City\": np.random.choice(['Sydney', 'Melbourne'], n, p=[0.53, 0.47])  # Nova coluna adicionada\n",
    "})"
   ]
  },
  {
   "cell_type": "code",
   "execution_count": 129,
   "id": "471cef97-7096-4ba1-8811-96ac5c69f94a",
   "metadata": {},
   "outputs": [
    {
     "name": "stdout",
     "output_type": "stream",
     "text": [
      "       hour_of_day       cash_type  money coffee_name Time_of_Day    Weekday  \\\n",
      "0               10      Debit Card   3.61  Cappuccino     Morning  Wednesday   \n",
      "1               13      Debit Card   6.37       Mocha   Afternoon    Tuesday   \n",
      "2               18            Cash  13.48    Espresso       Night     Friday   \n",
      "3               14     Credit Card   9.37   Macchiato   Afternoon  Wednesday   \n",
      "4                8      Debit Card   9.49       Latte     Morning   Thursday   \n",
      "...            ...             ...    ...         ...         ...        ...   \n",
      "67157           12  Mobile Payment  12.29       Mocha   Afternoon     Monday   \n",
      "67158            8      Debit Card  12.14       Latte     Morning  Wednesday   \n",
      "67159           12  Mobile Payment   8.50  Cappuccino   Afternoon   Saturday   \n",
      "67160           14     Credit Card   5.51       Mocha   Afternoon   Thursday   \n",
      "67161           20      Debit Card  10.04       Latte       Night     Friday   \n",
      "\n",
      "      Month_name  Weekdaysort  Monthsort        Date      Time  week_number  \\\n",
      "0          March            2          3  2025-03-12  10:00:00           11   \n",
      "1       December            1         12  2024-12-31  13:00:00            1   \n",
      "2          March            4          3  2024-03-15  18:00:00           11   \n",
      "3            May            2          5  2025-05-28  14:00:00           22   \n",
      "4           July            3          7  2025-07-24  08:00:00           30   \n",
      "...          ...          ...        ...         ...       ...          ...   \n",
      "67157       July            0          7  2023-07-03  12:00:00           27   \n",
      "67158      March            2          3  2024-03-20  08:00:00           12   \n",
      "67159   November            5         11  2023-11-04  12:00:00           44   \n",
      "67160  September            3          9  2023-09-21  14:00:00           38   \n",
      "67161      April            4          4  2025-04-04  20:00:00           14   \n",
      "\n",
      "       day_of_month       City  \n",
      "0                12     Sydney  \n",
      "1                31  Melbourne  \n",
      "2                15     Sydney  \n",
      "3                28  Melbourne  \n",
      "4                24  Melbourne  \n",
      "...             ...        ...  \n",
      "67157             3     Sydney  \n",
      "67158            20     Sydney  \n",
      "67159             4  Melbourne  \n",
      "67160            21     Sydney  \n",
      "67161             4  Melbourne  \n",
      "\n",
      "[67162 rows x 14 columns]\n"
     ]
    }
   ],
   "source": [
    "print(synthetic_data)"
   ]
  },
  {
   "cell_type": "code",
   "execution_count": 134,
   "id": "5cd4b132-e72a-4152-b3e7-0399519015a8",
   "metadata": {},
   "outputs": [],
   "source": [
    "synthetic_data.to_csv('coffe_sales.csv', index=False)"
   ]
  },
  {
   "cell_type": "code",
   "execution_count": 133,
   "id": "e6923881-e4fa-4cb1-9064-8532d5429767",
   "metadata": {},
   "outputs": [
    {
     "name": "stdout",
     "output_type": "stream",
     "text": [
      "Distribuição por cidade:\n",
      "Sydney       35561\n",
      "Melbourne    31601\n",
      "Name: City, dtype: int64\n",
      "\n",
      "Proporção: 52.95% Sydney, 47.05% Melbourne\n"
     ]
    }
   ],
   "source": [
    "city_distribution = synthetic_data['City'].value_counts()\n",
    "print(\"Distribuição por cidade:\")\n",
    "print(city_distribution)\n",
    "print(f\"\\nProporção: {city_distribution['Sydney']/n*100:.2f}% Sydney, {city_distribution['Melbourne']/n*100:.2f}% Melbourne\")"
   ]
  },
  {
   "cell_type": "code",
   "execution_count": null,
   "id": "5d84362c-f8f2-4f8f-a4ae-d9d0c8a73a14",
   "metadata": {},
   "outputs": [],
   "source": []
  }
 ],
 "metadata": {
  "kernelspec": {
   "display_name": "Python 3 (ipykernel)",
   "language": "python",
   "name": "python3"
  },
  "language_info": {
   "codemirror_mode": {
    "name": "ipython",
    "version": 3
   },
   "file_extension": ".py",
   "mimetype": "text/x-python",
   "name": "python",
   "nbconvert_exporter": "python",
   "pygments_lexer": "ipython3",
   "version": "3.12.3"
  }
 },
 "nbformat": 4,
 "nbformat_minor": 5
}
