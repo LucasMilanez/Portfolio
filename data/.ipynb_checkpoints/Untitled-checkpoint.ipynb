{
 "cells": [
  {
   "cell_type": "code",
   "execution_count": 7,
   "id": "69d7f97f-0acf-409b-9438-5d3cc8d7faea",
   "metadata": {},
   "outputs": [],
   "source": [
    "import pandas as pd\n",
    "import numpy as np\n",
    "from datetime import datetime"
   ]
  },
  {
   "cell_type": "code",
   "execution_count": 5,
   "id": "ea0f4193-857b-44a0-a198-ee89bccb558c",
   "metadata": {},
   "outputs": [],
   "source": [
    "df = pd.read_csv('Coffe_sales.csv')"
   ]
  },
  {
   "cell_type": "code",
   "execution_count": 6,
   "id": "06b636ca-eebb-41e9-93ea-4c8d666e09b5",
   "metadata": {},
   "outputs": [
    {
     "name": "stdout",
     "output_type": "stream",
     "text": [
      "      hour_of_day cash_type  money    coffee_name Time_of_Day Weekday  \\\n",
      "0              10      card  38.70          Latte     Morning     Fri   \n",
      "1              12      card  38.70  Hot Chocolate   Afternoon     Fri   \n",
      "2              12      card  38.70  Hot Chocolate   Afternoon     Fri   \n",
      "3              13      card  28.90      Americano   Afternoon     Fri   \n",
      "4              13      card  38.70          Latte   Afternoon     Fri   \n",
      "...           ...       ...    ...            ...         ...     ...   \n",
      "3542           10      card  35.76     Cappuccino     Morning     Sun   \n",
      "3543           14      card  35.76          Cocoa   Afternoon     Sun   \n",
      "3544           14      card  35.76          Cocoa   Afternoon     Sun   \n",
      "3545           15      card  25.96      Americano   Afternoon     Sun   \n",
      "3546           18      card  35.76          Latte       Night     Sun   \n",
      "\n",
      "     Month_name  Weekdaysort  Monthsort        Date             Time  \n",
      "0           Mar            5          3  2024-03-01  10:15:50.520000  \n",
      "1           Mar            5          3  2024-03-01  12:19:22.539000  \n",
      "2           Mar            5          3  2024-03-01  12:20:18.089000  \n",
      "3           Mar            5          3  2024-03-01  13:46:33.006000  \n",
      "4           Mar            5          3  2024-03-01  13:48:14.626000  \n",
      "...         ...          ...        ...         ...              ...  \n",
      "3542        Mar            7          3  2025-03-23  10:34:54.894000  \n",
      "3543        Mar            7          3  2025-03-23  14:43:37.362000  \n",
      "3544        Mar            7          3  2025-03-23  14:44:16.864000  \n",
      "3545        Mar            7          3  2025-03-23  15:47:28.723000  \n",
      "3546        Mar            7          3  2025-03-23  18:11:38.635000  \n",
      "\n",
      "[3547 rows x 11 columns]\n"
     ]
    }
   ],
   "source": [
    "print(df)"
   ]
  },
  {
   "cell_type": "code",
   "execution_count": 8,
   "id": "d6d479fd-60a3-4900-bde2-23813a85e35c",
   "metadata": {},
   "outputs": [],
   "source": [
    "df['Date'] = pd.to_datetime(df['Date'])\n",
    "df['Time'] = pd.to_datetime(df['Time']).dt.time"
   ]
  },
  {
   "cell_type": "code",
   "execution_count": 9,
   "id": "b1f0b69e-5484-4171-b6d9-1e72e6992963",
   "metadata": {},
   "outputs": [],
   "source": [
    "df['week_number'] = df['Date'].dt.isocalendar().week\n",
    "df['day_of_month'] = df['Date'].dt.day"
   ]
  },
  {
   "cell_type": "code",
   "execution_count": 10,
   "id": "b35abafe-ba30-4d41-b54c-682322e45daf",
   "metadata": {},
   "outputs": [
    {
     "name": "stdout",
     "output_type": "stream",
     "text": [
      "hour_of_day     0\n",
      "cash_type       0\n",
      "money           0\n",
      "coffee_name     0\n",
      "Time_of_Day     0\n",
      "Weekday         0\n",
      "Month_name      0\n",
      "Weekdaysort     0\n",
      "Monthsort       0\n",
      "Date            0\n",
      "Time            0\n",
      "week_number     0\n",
      "day_of_month    0\n",
      "dtype: int64\n"
     ]
    }
   ],
   "source": [
    "print(df.isnull().sum())"
   ]
  },
  {
   "cell_type": "code",
   "execution_count": 11,
   "id": "c20992cc-9974-4877-a890-f0d27feb2f05",
   "metadata": {},
   "outputs": [
    {
     "name": "stdout",
     "output_type": "stream",
     "text": [
      "      hour_of_day cash_type  money    coffee_name Time_of_Day Weekday  \\\n",
      "0              10      card  38.70          Latte     Morning     Fri   \n",
      "1              12      card  38.70  Hot Chocolate   Afternoon     Fri   \n",
      "2              12      card  38.70  Hot Chocolate   Afternoon     Fri   \n",
      "3              13      card  28.90      Americano   Afternoon     Fri   \n",
      "4              13      card  38.70          Latte   Afternoon     Fri   \n",
      "...           ...       ...    ...            ...         ...     ...   \n",
      "3542           10      card  35.76     Cappuccino     Morning     Sun   \n",
      "3543           14      card  35.76          Cocoa   Afternoon     Sun   \n",
      "3544           14      card  35.76          Cocoa   Afternoon     Sun   \n",
      "3545           15      card  25.96      Americano   Afternoon     Sun   \n",
      "3546           18      card  35.76          Latte       Night     Sun   \n",
      "\n",
      "     Month_name  Weekdaysort  Monthsort       Date             Time  \\\n",
      "0           Mar            5          3 2024-03-01  10:15:50.520000   \n",
      "1           Mar            5          3 2024-03-01  12:19:22.539000   \n",
      "2           Mar            5          3 2024-03-01  12:20:18.089000   \n",
      "3           Mar            5          3 2024-03-01  13:46:33.006000   \n",
      "4           Mar            5          3 2024-03-01  13:48:14.626000   \n",
      "...         ...          ...        ...        ...              ...   \n",
      "3542        Mar            7          3 2025-03-23  10:34:54.894000   \n",
      "3543        Mar            7          3 2025-03-23  14:43:37.362000   \n",
      "3544        Mar            7          3 2025-03-23  14:44:16.864000   \n",
      "3545        Mar            7          3 2025-03-23  15:47:28.723000   \n",
      "3546        Mar            7          3 2025-03-23  18:11:38.635000   \n",
      "\n",
      "      week_number  day_of_month  \n",
      "0               9             1  \n",
      "1               9             1  \n",
      "2               9             1  \n",
      "3               9             1  \n",
      "4               9             1  \n",
      "...           ...           ...  \n",
      "3542           12            23  \n",
      "3543           12            23  \n",
      "3544           12            23  \n",
      "3545           12            23  \n",
      "3546           12            23  \n",
      "\n",
      "[3547 rows x 13 columns]\n"
     ]
    }
   ],
   "source": [
    "print(df)"
   ]
  },
  {
   "cell_type": "code",
   "execution_count": 12,
   "id": "8c2e0c7a-c2ce-4a61-9744-8b0a759bcbf9",
   "metadata": {},
   "outputs": [],
   "source": [
    "df.to_parquet('coffee_sales_processed.parquet', index=False)"
   ]
  },
  {
   "cell_type": "code",
   "execution_count": null,
   "id": "cc5ec9a2-faef-4471-835e-dd23a77dd36a",
   "metadata": {},
   "outputs": [],
   "source": []
  }
 ],
 "metadata": {
  "kernelspec": {
   "display_name": "Python 3 (ipykernel)",
   "language": "python",
   "name": "python3"
  },
  "language_info": {
   "codemirror_mode": {
    "name": "ipython",
    "version": 3
   },
   "file_extension": ".py",
   "mimetype": "text/x-python",
   "name": "python",
   "nbconvert_exporter": "python",
   "pygments_lexer": "ipython3",
   "version": "3.12.3"
  }
 },
 "nbformat": 4,
 "nbformat_minor": 5
}
